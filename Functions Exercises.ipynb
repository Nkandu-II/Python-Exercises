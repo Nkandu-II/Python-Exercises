{
 "cells": [
  {
   "cell_type": "markdown",
   "id": "423078ee",
   "metadata": {},
   "source": [
    "### 1. Write a function that inputs a number and prints the multiplication table of that number."
   ]
  },
  {
   "cell_type": "code",
   "execution_count": 1,
   "id": "94ba9c13",
   "metadata": {},
   "outputs": [
    {
     "name": "stdout",
     "output_type": "stream",
     "text": [
      "2 x 0 = 0\n",
      "2 x 1 = 2\n",
      "2 x 2 = 4\n",
      "2 x 3 = 6\n",
      "2 x 4 = 8\n",
      "2 x 5 = 10\n",
      "2 x 6 = 12\n",
      "2 x 7 = 14\n",
      "2 x 8 = 16\n",
      "2 x 9 = 18\n"
     ]
    }
   ],
   "source": [
    "def simple_multiplication_table(num):\n",
    "    #Prints the multipliaction table of a given number\n",
    "    \n",
    "    for i in range(10):\n",
    "        print(f'{num} x {i} = {num * i}')\n",
    "        \n",
    "simple_multiplication_table(2)\n",
    "    "
   ]
  },
  {
   "cell_type": "markdown",
   "id": "2bb9e035",
   "metadata": {},
   "source": [
    "# Hey ya"
   ]
  },
  {
   "cell_type": "code",
   "execution_count": null,
   "id": "78fb1274",
   "metadata": {},
   "outputs": [],
   "source": []
  }
 ],
 "metadata": {
  "kernelspec": {
   "display_name": "Python 3 (ipykernel)",
   "language": "python",
   "name": "python3"
  },
  "language_info": {
   "codemirror_mode": {
    "name": "ipython",
    "version": 3
   },
   "file_extension": ".py",
   "mimetype": "text/x-python",
   "name": "python",
   "nbconvert_exporter": "python",
   "pygments_lexer": "ipython3",
   "version": "3.9.7"
  }
 },
 "nbformat": 4,
 "nbformat_minor": 5
}
