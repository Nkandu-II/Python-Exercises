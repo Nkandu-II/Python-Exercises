{
 "cells": [
  {
   "cell_type": "markdown",
   "id": "423078ee",
   "metadata": {},
   "source": [
    "### 1. Write a function that inputs a number and prints the multiplication table of that number."
   ]
  },
  {
   "cell_type": "code",
   "execution_count": 1,
   "id": "94ba9c13",
   "metadata": {},
   "outputs": [
    {
     "name": "stdout",
     "output_type": "stream",
     "text": [
      "2 x 0 = 0\n",
      "2 x 1 = 2\n",
      "2 x 2 = 4\n",
      "2 x 3 = 6\n",
      "2 x 4 = 8\n",
      "2 x 5 = 10\n",
      "2 x 6 = 12\n",
      "2 x 7 = 14\n",
      "2 x 8 = 16\n",
      "2 x 9 = 18\n"
     ]
    }
   ],
   "source": [
    "def simple_multiplication_table(num):\n",
    "    #Prints the multipliaction table of a given number\n",
    "    \n",
    "    for i in range(10):\n",
    "        print(f'{num} x {i} = {num * i}')\n",
    "        \n",
    "simple_multiplication_table(2)\n",
    "    "
   ]
  },
  {
   "cell_type": "markdown",
   "id": "6edae39a",
   "metadata": {},
   "source": [
    "### 2. Write a program to print twin primes less than 200. If two consecutive odd numbers are both prime then they are known as twin primes."
   ]
  },
  {
   "cell_type": "code",
   "execution_count": 172,
   "id": "1ae07313",
   "metadata": {},
   "outputs": [
    {
     "name": "stdout",
     "output_type": "stream",
     "text": [
      "3 and 5\n",
      "5 and 7\n",
      "11 and 13\n",
      "17 and 19\n",
      "29 and 31\n",
      "41 and 43\n",
      "59 and 61\n",
      "71 and 73\n",
      "101 and 103\n",
      "107 and 109\n",
      "137 and 139\n",
      "149 and 151\n",
      "179 and 181\n",
      "191 and 193\n",
      "197 and 199\n"
     ]
    }
   ],
   "source": [
    "import math\n",
    "\n",
    "'''This function below prints prime numbers'''\n",
    "\n",
    "def is_prime(n):\n",
    "    for i in range(2, int(math.sqrt(n)) + 1):\n",
    "        if n % i == 0:\n",
    "            return False\n",
    "    return True\n",
    "\n",
    "'''This function below prints twin prime numbers with a step of 2'''\n",
    "\n",
    "def print_twin_primes():\n",
    "    for i in range(3, 200, 2):\n",
    "        if is_prime(i) and is_prime(i + 2):\n",
    "            print(f\"{i} and {i + 2}\")\n",
    "\n",
    "print_twin_primes()"
   ]
  },
  {
   "cell_type": "code",
   "execution_count": null,
   "id": "bf5cc57b",
   "metadata": {},
   "outputs": [],
   "source": []
  }
 ],
 "metadata": {
  "kernelspec": {
   "display_name": "Python 3 (ipykernel)",
   "language": "python",
   "name": "python3"
  },
  "language_info": {
   "codemirror_mode": {
    "name": "ipython",
    "version": 3
   },
   "file_extension": ".py",
   "mimetype": "text/x-python",
   "name": "python",
   "nbconvert_exporter": "python",
   "pygments_lexer": "ipython3",
   "version": "3.9.7"
  }
 },
 "nbformat": 4,
 "nbformat_minor": 5
}
